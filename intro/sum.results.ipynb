{
 "cells": [
  {
   "cell_type": "markdown",
   "id": "7ede5c5e",
   "metadata": {
    "papermill": {
     "duration": 0.006765,
     "end_time": "2021-08-13T00:53:29.846932",
     "exception": false,
     "start_time": "2021-08-13T00:53:29.840167",
     "status": "completed"
    },
    "tags": []
   },
   "source": [
    "# Parameters"
   ]
  },
  {
   "cell_type": "code",
   "execution_count": 1,
   "id": "b2ba20b7",
   "metadata": {
    "ExecuteTime": {
     "end_time": "2021-08-13T00:45:51.402942Z",
     "start_time": "2021-08-13T00:45:51.400424Z"
    },
    "execution": {
     "iopub.execute_input": "2021-08-13T00:53:29.859615Z",
     "iopub.status.busy": "2021-08-13T00:53:29.859064Z",
     "iopub.status.idle": "2021-08-13T00:53:29.862145Z",
     "shell.execute_reply": "2021-08-13T00:53:29.861483Z"
    },
    "papermill": {
     "duration": 0.010878,
     "end_time": "2021-08-13T00:53:29.862348",
     "exception": false,
     "start_time": "2021-08-13T00:53:29.851470",
     "status": "completed"
    },
    "tags": [
     "parameters"
    ]
   },
   "outputs": [],
   "source": [
    "# THESE VALUES SHOULD BE OVERRIDDEN\n",
    "\n",
    "x = 7\n",
    "y = 12"
   ]
  },
  {
   "cell_type": "code",
   "execution_count": 2,
   "id": "23b6598d",
   "metadata": {
    "execution": {
     "iopub.execute_input": "2021-08-13T00:53:29.874289Z",
     "iopub.status.busy": "2021-08-13T00:53:29.873769Z",
     "iopub.status.idle": "2021-08-13T00:53:29.875791Z",
     "shell.execute_reply": "2021-08-13T00:53:29.876212Z"
    },
    "papermill": {
     "duration": 0.009667,
     "end_time": "2021-08-13T00:53:29.876344",
     "exception": false,
     "start_time": "2021-08-13T00:53:29.866677",
     "status": "completed"
    },
    "tags": [
     "injected-parameters"
    ]
   },
   "outputs": [],
   "source": [
    "# Parameters\n",
    "x = 2\n",
    "y = 5\n"
   ]
  },
  {
   "cell_type": "markdown",
   "id": "348f1b48",
   "metadata": {
    "papermill": {
     "duration": 0.005944,
     "end_time": "2021-08-13T00:53:29.909200",
     "exception": false,
     "start_time": "2021-08-13T00:53:29.903256",
     "status": "completed"
    },
    "tags": []
   },
   "source": [
    "# Sum"
   ]
  },
  {
   "cell_type": "code",
   "execution_count": 3,
   "id": "1c651e44",
   "metadata": {
    "ExecuteTime": {
     "end_time": "2021-08-13T00:45:51.672589Z",
     "start_time": "2021-08-13T00:45:51.668841Z"
    },
    "execution": {
     "iopub.execute_input": "2021-08-13T00:53:29.926097Z",
     "iopub.status.busy": "2021-08-13T00:53:29.925618Z",
     "iopub.status.idle": "2021-08-13T00:53:29.928656Z",
     "shell.execute_reply": "2021-08-13T00:53:29.928203Z"
    },
    "papermill": {
     "duration": 0.01512,
     "end_time": "2021-08-13T00:53:29.928755",
     "exception": false,
     "start_time": "2021-08-13T00:53:29.913635",
     "status": "completed"
    },
    "tags": []
   },
   "outputs": [
    {
     "data": {
      "text/plain": [
       "7"
      ]
     },
     "execution_count": 3,
     "metadata": {},
     "output_type": "execute_result"
    }
   ],
   "source": [
    "x + y"
   ]
  },
  {
   "cell_type": "code",
   "execution_count": null,
   "id": "8074bd9f",
   "metadata": {
    "papermill": {
     "duration": 0.003767,
     "end_time": "2021-08-13T00:53:29.936459",
     "exception": false,
     "start_time": "2021-08-13T00:53:29.932692",
     "status": "completed"
    },
    "tags": []
   },
   "outputs": [],
   "source": []
  }
 ],
 "metadata": {
  "celltoolbar": "Tags",
  "kernelspec": {
   "display_name": "Python 3",
   "language": "python",
   "name": "python3"
  },
  "language_info": {
   "codemirror_mode": {
    "name": "ipython",
    "version": 3
   },
   "file_extension": ".py",
   "mimetype": "text/x-python",
   "name": "python",
   "nbconvert_exporter": "python",
   "pygments_lexer": "ipython3",
   "version": "3.7.7"
  },
  "papermill": {
   "default_parameters": {},
   "duration": 2.237306,
   "end_time": "2021-08-13T00:53:31.150816",
   "environment_variables": {},
   "exception": null,
   "input_path": "sum.template.ipynb",
   "output_path": "sum.results.ipynb",
   "parameters": {
    "x": 2,
    "y": 5
   },
   "start_time": "2021-08-13T00:53:28.913510",
   "version": "2.3.3"
  },
  "toc": {
   "base_numbering": 1,
   "nav_menu": {},
   "number_sections": true,
   "sideBar": true,
   "skip_h1_title": false,
   "title_cell": "Table of Contents",
   "title_sidebar": "Contents",
   "toc_cell": false,
   "toc_position": {},
   "toc_section_display": true,
   "toc_window_display": false
  }
 },
 "nbformat": 4,
 "nbformat_minor": 5
}