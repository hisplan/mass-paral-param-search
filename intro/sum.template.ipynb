{
 "cells": [
  {
   "cell_type": "markdown",
   "id": "2e0f0404",
   "metadata": {},
   "source": [
    "# Parameters"
   ]
  },
  {
   "cell_type": "code",
   "execution_count": 1,
   "id": "4e6575ae",
   "metadata": {
    "ExecuteTime": {
     "end_time": "2021-08-13T10:51:27.324014Z",
     "start_time": "2021-08-13T10:51:27.321550Z"
    },
    "tags": [
     "parameters"
    ]
   },
   "outputs": [],
   "source": [
    "# THESE VALUES WILL BE OVERRIDDEN AT THE tEXECUTION TIME\n",
    "x = 20\n",
    "y = 15"
   ]
  },
  {
   "cell_type": "markdown",
   "id": "9d850425",
   "metadata": {
    "ExecuteTime": {
     "end_time": "2021-08-13T10:51:18.333634Z",
     "start_time": "2021-08-13T10:51:18.331137Z"
    }
   },
   "source": [
    "# Sum\n"
   ]
  },
  {
   "cell_type": "code",
   "execution_count": 2,
   "id": "dcc48128",
   "metadata": {
    "ExecuteTime": {
     "end_time": "2021-08-13T10:51:27.334645Z",
     "start_time": "2021-08-13T10:51:27.325984Z"
    }
   },
   "outputs": [
    {
     "data": {
      "text/plain": [
       "35"
      ]
     },
     "execution_count": 2,
     "metadata": {},
     "output_type": "execute_result"
    }
   ],
   "source": [
    "x + y"
   ]
  },
  {
   "cell_type": "code",
   "execution_count": null,
   "id": "840f54f0",
   "metadata": {},
   "outputs": [],
   "source": []
  }
 ],
 "metadata": {
  "kernelspec": {
   "display_name": "Python 3",
   "language": "python",
   "name": "python3"
  },
  "language_info": {
   "codemirror_mode": {
    "name": "ipython",
    "version": 3
   },
   "file_extension": ".py",
   "mimetype": "text/x-python",
   "name": "python",
   "nbconvert_exporter": "python",
   "pygments_lexer": "ipython3",
   "version": "3.7.7"
  },
  "toc": {
   "base_numbering": 1,
   "nav_menu": {},
   "number_sections": true,
   "sideBar": true,
   "skip_h1_title": false,
   "title_cell": "Table of Contents",
   "title_sidebar": "Contents",
   "toc_cell": false,
   "toc_position": {},
   "toc_section_display": true,
   "toc_window_display": false
  }
 },
 "nbformat": 4,
 "nbformat_minor": 5
}
