{
 "cells": [
  {
   "cell_type": "markdown",
   "id": "ce9ed575",
   "metadata": {},
   "source": [
    "# Parameters"
   ]
  },
  {
   "cell_type": "code",
   "execution_count": 1,
   "id": "b06b84f6",
   "metadata": {
    "ExecuteTime": {
     "end_time": "2021-08-13T01:23:36.326664Z",
     "start_time": "2021-08-13T01:23:36.324000Z"
    },
    "tags": [
     "parameters"
    ]
   },
   "outputs": [],
   "source": [
    "# THESE VALUES SHOULD BE OVERRIDDEN\n",
    "\n",
    "x = 7\n",
    "y = 12"
   ]
  },
  {
   "cell_type": "markdown",
   "id": "91ec1413",
   "metadata": {},
   "source": [
    "# Sum"
   ]
  },
  {
   "cell_type": "code",
   "execution_count": 2,
   "id": "1950ebd3",
   "metadata": {
    "ExecuteTime": {
     "end_time": "2021-08-13T01:23:36.337131Z",
     "start_time": "2021-08-13T01:23:36.328649Z"
    }
   },
   "outputs": [],
   "source": [
    "x + y"
   ]
  },
  {
   "cell_type": "code",
   "execution_count": null,
   "id": "0db36e77",
   "metadata": {},
   "outputs": [],
   "source": []
  }
 ],
 "metadata": {
  "celltoolbar": "Tags",
  "kernelspec": {
   "display_name": "Python 3",
   "language": "python",
   "name": "python3"
  },
  "language_info": {
   "codemirror_mode": {
    "name": "ipython",
    "version": 3
   },
   "file_extension": ".py",
   "mimetype": "text/x-python",
   "name": "python",
   "nbconvert_exporter": "python",
   "pygments_lexer": "ipython3",
   "version": "3.7.7"
  },
  "toc": {
   "base_numbering": 1,
   "nav_menu": {},
   "number_sections": true,
   "sideBar": true,
   "skip_h1_title": false,
   "title_cell": "Table of Contents",
   "title_sidebar": "Contents",
   "toc_cell": false,
   "toc_position": {},
   "toc_section_display": true,
   "toc_window_display": false
  }
 },
 "nbformat": 4,
 "nbformat_minor": 5
}
