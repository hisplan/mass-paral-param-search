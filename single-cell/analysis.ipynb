{
 "cells": [
  {
   "cell_type": "markdown",
   "metadata": {},
   "source": [
    "# Introduction"
   ]
  },
  {
   "cell_type": "markdown",
   "metadata": {},
   "source": [
    "Once the sequenced reads are processed using SEQC, this automated notebook is run to visualize and obtain some basic information about the data.\n",
    "\n",
    "This notebook loads the SEQC filtered output, normalized the count matrix, performs dimensionality reduction, visualizes the cells, clusters the cells and performs differential expression to identify enriched genes in each cluster. "
   ]
  },
  {
   "cell_type": "markdown",
   "metadata": {},
   "source": [
    "## Import packages"
   ]
  },
  {
   "cell_type": "code",
   "execution_count": 1,
   "metadata": {
    "ExecuteTime": {
     "end_time": "2021-08-16T12:29:47.415907Z",
     "start_time": "2021-08-16T12:29:45.497451Z"
    }
   },
   "outputs": [],
   "source": [
    "import os\n",
    "import scanpy as sc\n",
    "import numpy as np\n",
    "import matplotlib.pyplot as plt\n",
    "import pandas as pd\n",
    "import anndata\n",
    "from scipy import sparse\n",
    "import phenograph"
   ]
  },
  {
   "cell_type": "code",
   "execution_count": 2,
   "metadata": {
    "ExecuteTime": {
     "end_time": "2021-08-16T12:29:47.421470Z",
     "start_time": "2021-08-16T12:29:47.419363Z"
    }
   },
   "outputs": [],
   "source": [
    "sample_name = \"2_DT_2_CD45plus_dense\"\n",
    "\n",
    "input_directory = \"./inputs/\"\n",
    "output_directory = \"./outputs/\""
   ]
  },
  {
   "cell_type": "markdown",
   "metadata": {},
   "source": [
    "# Load data "
   ]
  },
  {
   "cell_type": "code",
   "execution_count": 3,
   "metadata": {
    "ExecuteTime": {
     "end_time": "2021-08-16T12:29:47.561935Z",
     "start_time": "2021-08-16T12:29:47.422964Z"
    }
   },
   "outputs": [],
   "source": [
    "adata = sc.read_h5ad(os.path.join(input_directory, f\"{sample_name}.h5ad\"))"
   ]
  },
  {
   "cell_type": "code",
   "execution_count": 4,
   "metadata": {
    "ExecuteTime": {
     "end_time": "2021-08-16T12:29:47.573417Z",
     "start_time": "2021-08-16T12:29:47.563710Z"
    }
   },
   "outputs": [
    {
     "data": {
      "text/html": [
       "<div>\n",
       "<style scoped>\n",
       "    .dataframe tbody tr th:only-of-type {\n",
       "        vertical-align: middle;\n",
       "    }\n",
       "\n",
       "    .dataframe tbody tr th {\n",
       "        vertical-align: top;\n",
       "    }\n",
       "\n",
       "    .dataframe thead th {\n",
       "        text-align: right;\n",
       "    }\n",
       "</style>\n",
       "<table border=\"1\" class=\"dataframe\">\n",
       "  <thead>\n",
       "    <tr style=\"text-align: right;\">\n",
       "      <th></th>\n",
       "    </tr>\n",
       "  </thead>\n",
       "  <tbody>\n",
       "    <tr>\n",
       "      <th>120703424257380</th>\n",
       "    </tr>\n",
       "    <tr>\n",
       "      <th>120703455455644</th>\n",
       "    </tr>\n",
       "    <tr>\n",
       "      <th>120703455480742</th>\n",
       "    </tr>\n",
       "    <tr>\n",
       "      <th>120726897191836</th>\n",
       "    </tr>\n",
       "    <tr>\n",
       "      <th>120726912354163</th>\n",
       "    </tr>\n",
       "  </tbody>\n",
       "</table>\n",
       "</div>"
      ],
      "text/plain": [
       "Empty DataFrame\n",
       "Columns: []\n",
       "Index: [120703424257380, 120703455455644, 120703455480742, 120726897191836, 120726912354163]"
      ]
     },
     "execution_count": 4,
     "metadata": {},
     "output_type": "execute_result"
    }
   ],
   "source": [
    "# View the cell barcodes:\n",
    "adata.obs.head()"
   ]
  },
  {
   "cell_type": "code",
   "execution_count": 5,
   "metadata": {
    "ExecuteTime": {
     "end_time": "2021-08-16T12:29:47.580434Z",
     "start_time": "2021-08-16T12:29:47.575130Z"
    }
   },
   "outputs": [
    {
     "data": {
      "text/html": [
       "<div>\n",
       "<style scoped>\n",
       "    .dataframe tbody tr th:only-of-type {\n",
       "        vertical-align: middle;\n",
       "    }\n",
       "\n",
       "    .dataframe tbody tr th {\n",
       "        vertical-align: top;\n",
       "    }\n",
       "\n",
       "    .dataframe thead th {\n",
       "        text-align: right;\n",
       "    }\n",
       "</style>\n",
       "<table border=\"1\" class=\"dataframe\">\n",
       "  <thead>\n",
       "    <tr style=\"text-align: right;\">\n",
       "      <th></th>\n",
       "    </tr>\n",
       "  </thead>\n",
       "  <tbody>\n",
       "    <tr>\n",
       "      <th>GNAI3</th>\n",
       "    </tr>\n",
       "    <tr>\n",
       "      <th>CDC45</th>\n",
       "    </tr>\n",
       "    <tr>\n",
       "      <th>APOH</th>\n",
       "    </tr>\n",
       "    <tr>\n",
       "      <th>NARF</th>\n",
       "    </tr>\n",
       "    <tr>\n",
       "      <th>CAV2</th>\n",
       "    </tr>\n",
       "  </tbody>\n",
       "</table>\n",
       "</div>"
      ],
      "text/plain": [
       "Empty DataFrame\n",
       "Columns: []\n",
       "Index: [GNAI3, CDC45, APOH, NARF, CAV2]"
      ]
     },
     "execution_count": 5,
     "metadata": {},
     "output_type": "execute_result"
    }
   ],
   "source": [
    "# View the gene names:\n",
    "adata.var.head()"
   ]
  },
  {
   "cell_type": "markdown",
   "metadata": {},
   "source": [
    "# QC"
   ]
  },
  {
   "cell_type": "code",
   "execution_count": 6,
   "metadata": {
    "ExecuteTime": {
     "end_time": "2021-08-16T12:29:47.587087Z",
     "start_time": "2021-08-16T12:29:47.583487Z"
    }
   },
   "outputs": [
    {
     "data": {
      "text/plain": [
       "AnnData object with n_obs × n_vars = 2610 × 15199"
      ]
     },
     "execution_count": 6,
     "metadata": {},
     "output_type": "execute_result"
    }
   ],
   "source": [
    "adata"
   ]
  },
  {
   "cell_type": "code",
   "execution_count": 7,
   "metadata": {
    "ExecuteTime": {
     "end_time": "2021-08-16T12:29:48.102965Z",
     "start_time": "2021-08-16T12:29:47.589356Z"
    }
   },
   "outputs": [],
   "source": [
    "# This line of code automatically computes some of the essential QC metrics\n",
    "sc.pp.calculate_qc_metrics(adata, inplace = True)"
   ]
  },
  {
   "cell_type": "code",
   "execution_count": 8,
   "metadata": {
    "ExecuteTime": {
     "end_time": "2021-08-16T12:29:48.108906Z",
     "start_time": "2021-08-16T12:29:48.104615Z"
    }
   },
   "outputs": [
    {
     "data": {
      "text/plain": [
       "AnnData object with n_obs × n_vars = 2610 × 15199\n",
       "    obs: 'n_genes_by_counts', 'log1p_n_genes_by_counts', 'total_counts', 'log1p_total_counts', 'pct_counts_in_top_50_genes', 'pct_counts_in_top_100_genes', 'pct_counts_in_top_200_genes', 'pct_counts_in_top_500_genes'\n",
       "    var: 'n_cells_by_counts', 'mean_counts', 'log1p_mean_counts', 'pct_dropout_by_counts', 'total_counts', 'log1p_total_counts'"
      ]
     },
     "execution_count": 8,
     "metadata": {},
     "output_type": "execute_result"
    }
   ],
   "source": [
    "adata"
   ]
  },
  {
   "cell_type": "markdown",
   "metadata": {},
   "source": [
    "## Distribution of gene counts"
   ]
  },
  {
   "cell_type": "markdown",
   "metadata": {},
   "source": [
    "First, we look at the distribution of the total number of cells each gene is expressed in. It is stored in 'n_cells_by_counts' in adata."
   ]
  },
  {
   "cell_type": "code",
   "execution_count": 9,
   "metadata": {
    "ExecuteTime": {
     "end_time": "2021-08-16T12:29:49.088007Z",
     "start_time": "2021-08-16T12:29:48.110381Z"
    }
   },
   "outputs": [
    {
     "data": {
      "image/png": "[encoded data removed]",
      "text/plain": [
       "<Figure size 1152x432 with 2 Axes>"
      ]
     },
     "metadata": {
      "needs_background": "light"
     },
     "output_type": "display_data"
    }
   ],
   "source": [
    "fig = plt.figure(figsize = (8*2, 6*1))\n",
    "\n",
    "ax = fig.add_subplot(1, 2, 1)\n",
    "ax.hist(adata.var['n_cells_by_counts'], 100);\n",
    "ax.set_xlabel('Number of cells each gene is expressed in', fontsize = 12)\n",
    "ax.set_ylabel('Frequency', fontsize = 12)\n",
    "\n",
    "ax = fig.add_subplot(1, 2, 2)\n",
    "ax.hist(np.log2(adata.var['n_cells_by_counts'] + 1), 100);\n",
    "ax.set_xlabel('log2(Number of cells each gene is expressed in)', fontsize = 12)\n",
    "ax.set_ylabel('Frequency', fontsize = 12)\n",
    "\n",
    "# Save figure\n",
    "fig.savefig(output_directory + 'distr_gene_expression.png', bbox_inches = 'tight', dpi = 150)\n",
    "\n",
    "plt.show()"
   ]
  },
  {
   "cell_type": "markdown",
   "metadata": {},
   "source": [
    "As we can see, there is a large number of genes which are expressed in very few cells. You can choose to remove those genes from the analysis. A typical choice is to preserve only genes expressed in at least 10 cells. Or based on the distribution above (on the right), you can choose it to be 16: as log2(16) = 4.\n",
    "\n",
    "You can run: `sc.pp.filter_genes(adata, min_cells=10)` to achieve that."
   ]
  },
  {
   "cell_type": "markdown",
   "metadata": {},
   "source": [
    "In this notebook, we do not set any threshold."
   ]
  },
  {
   "cell_type": "markdown",
   "metadata": {},
   "source": [
    "## Distribution of total counts in each cell"
   ]
  },
  {
   "cell_type": "markdown",
   "metadata": {},
   "source": [
    "Next, we look at the distribution of the total counts (also known as the library size) in each cell. It is stored in 'total_counts' in adata."
   ]
  },
  {
   "cell_type": "code",
   "execution_count": 10,
   "metadata": {
    "ExecuteTime": {
     "end_time": "2021-08-16T12:29:50.075223Z",
     "start_time": "2021-08-16T12:29:49.089669Z"
    }
   },
   "outputs": [
    {
     "data": {
      "image/png": "[encoded data removed]",
      "text/plain": [
       "<Figure size 1152x432 with 2 Axes>"
      ]
     },
     "metadata": {
      "needs_background": "light"
     },
     "output_type": "display_data"
    }
   ],
   "source": [
    "fig = plt.figure(figsize = (8*2, 6*1))\n",
    "\n",
    "ax = fig.add_subplot(1, 2, 1)\n",
    "ax.hist(adata.obs['total_counts'], 100);\n",
    "ax.set_xlabel('Total Counts', fontsize = 12)\n",
    "ax.set_ylabel('Frequency', fontsize = 12)\n",
    "\n",
    "ax = fig.add_subplot(1, 2, 2)\n",
    "ax.hist(np.log2(adata.obs['total_counts'] + 1), 100);\n",
    "ax.set_xlabel('log2(Total Counts)', fontsize = 12)\n",
    "ax.set_ylabel('Frequency', fontsize = 12)\n",
    "\n",
    "# Save figure\n",
    "fig.savefig(output_directory + 'library_size_distribution.png', bbox_inches = 'tight', dpi = 150)\n",
    "\n",
    "plt.show()"
   ]
  },
  {
   "cell_type": "markdown",
   "metadata": {},
   "source": [
    "The library size distribution can inform you about the quality of cells in the data. Cells with very low library size (around 500) are likely to be empty droplets and not real cells. As such, it can be useful to remove such potential low quality cells. But one needs to be careful to ascertain that these are indeed lower quality cells. For that we recommend you include all the cells and perform some downstream analysis such as visualization and clustering. If these low library size (defined as the total counts in each cell) populations separate out as an independent cluster and do not seem to contribute to overall population then they can be classified as lower quality cells. So, whether to remove them from analysis is a choice that will need to be made gradually during data analysis process. \n",
    "\n",
    "If you decide to remove the lower quality cells, you can run the following code, which will remove cells with lower than 500 total counts. The choice of this threshold can also be inferred from the figure on the right ~9: because log2(512) = 9).\n",
    "\n",
    "`sc.pp.filter_cells(adata, min_counts = 500)`"
   ]
  },
  {
   "cell_type": "markdown",
   "metadata": {},
   "source": [
    "In this notebook, we don't filter out any cells."
   ]
  },
  {
   "cell_type": "markdown",
   "metadata": {},
   "source": [
    "## Mitochondrial content"
   ]
  },
  {
   "cell_type": "markdown",
   "metadata": {},
   "source": [
    "The presence of high mitochondrial gene expression can indicate cells undergoing apoptosis. Therefore, it is of interest to inspect the rate of expression of mitochondrial genes. A typical step in scRNA-seq analysis involves removing cells with high mitochondrial RNA expression. But, whether to do so or not is a context dependent question. Sometimes you might be interested in studying cellular behavior under stress, which inevitably increases expression of mitochondrial content. \n",
    "\n",
    "Here, we provide code to look at mitochondrial content and suggest ways to remove cells with high content."
   ]
  },
  {
   "cell_type": "code",
   "execution_count": 11,
   "metadata": {
    "ExecuteTime": {
     "end_time": "2021-08-16T12:29:50.082126Z",
     "start_time": "2021-08-16T12:29:50.076606Z"
    }
   },
   "outputs": [],
   "source": [
    "# Identify MT-genes\n",
    "mito_genes = [x for x in adata.var.index if x[:3] == 'MT-']"
   ]
  },
  {
   "cell_type": "code",
   "execution_count": 12,
   "metadata": {
    "ExecuteTime": {
     "end_time": "2021-08-16T12:29:50.086085Z",
     "start_time": "2021-08-16T12:29:50.083610Z"
    }
   },
   "outputs": [
    {
     "name": "stdout",
     "output_type": "stream",
     "text": [
      "['MT-ND1', 'MT-ND2', 'MT-CO1', 'MT-CO2', 'MT-ATP8', 'MT-ATP6', 'MT-CO3', 'MT-ND3', 'MT-ND4', 'MT-ND5', 'MT-ND6', 'MT-CYTB', 'MT-ND4L']\n"
     ]
    }
   ],
   "source": [
    "print(mito_genes)"
   ]
  },
  {
   "cell_type": "code",
   "execution_count": 13,
   "metadata": {
    "ExecuteTime": {
     "end_time": "2021-08-16T12:29:50.091242Z",
     "start_time": "2021-08-16T12:29:50.087827Z"
    }
   },
   "outputs": [],
   "source": [
    "location_mito_genes = [adata.var_names.get_loc(j) for j in mito_genes]"
   ]
  },
  {
   "cell_type": "markdown",
   "metadata": {},
   "source": [
    "We define mitochondrial fraction for each cell as the total mitochondrial RNA counts divided by the total counts in that cell."
   ]
  },
  {
   "cell_type": "code",
   "execution_count": 14,
   "metadata": {
    "ExecuteTime": {
     "end_time": "2021-08-16T12:29:50.113066Z",
     "start_time": "2021-08-16T12:29:50.093939Z"
    }
   },
   "outputs": [],
   "source": [
    "mito_frac = np.asarray(\n",
    "    np.sum(adata.X[:, location_mito_genes], axis = 1)/np.sum(adata.X, axis = 1)\n",
    "    ).squeeze() * 100"
   ]
  },
  {
   "cell_type": "code",
   "execution_count": 15,
   "metadata": {
    "ExecuteTime": {
     "end_time": "2021-08-16T12:29:50.117577Z",
     "start_time": "2021-08-16T12:29:50.114626Z"
    }
   },
   "outputs": [],
   "source": [
    "# store mitochondrial fraction onto adata\n",
    "adata.obs['mito_frac'] = mito_frac"
   ]
  },
  {
   "cell_type": "code",
   "execution_count": 16,
   "metadata": {
    "ExecuteTime": {
     "end_time": "2021-08-16T12:29:50.980524Z",
     "start_time": "2021-08-16T12:29:50.119470Z"
    }
   },
   "outputs": [
    {
     "data": {
      "image/png": "[encoded data removed]",
      "text/plain": [
       "<Figure size 1152x432 with 2 Axes>"
      ]
     },
     "metadata": {
      "needs_background": "light"
     },
     "output_type": "display_data"
    }
   ],
   "source": [
    "fig = plt.figure(figsize = (8*2, 6*1))\n",
    "\n",
    "ax = fig.add_subplot(1, 2, 1)\n",
    "ax.hist(mito_frac, 100);\n",
    "ax.set_xlabel('% MT-content', fontsize = 12)\n",
    "ax.set_ylabel('Frequency', fontsize = 12)\n",
    "\n",
    "ax = fig.add_subplot(1, 2, 2)\n",
    "ax.scatter(np.log2(adata.obs['total_counts'] + 1), mito_frac);\n",
    "ax.set_xlabel('log2(Total Counts)', fontsize = 12)\n",
    "ax.set_ylabel('% MT-content', fontsize = 12)\n",
    "\n",
    "# Save figure\n",
    "fig.savefig(output_directory + 'mitochondrial_fraction.png', bbox_inches = 'tight', dpi = 150)\n",
    "\n",
    "plt.show()"
   ]
  },
  {
   "cell_type": "markdown",
   "metadata": {},
   "source": [
    "As you can see from the left plot, there are only very cells with substantially high MT-content. And from the figure on the right, you can see that those cells with high MT-content are also the ones with low total counts (or library size). As such, you could argue to remove these high MT-cells. "
   ]
  },
  {
   "cell_type": "markdown",
   "metadata": {},
   "source": [
    "# Highly Variable Gene selection"
   ]
  },
  {
   "cell_type": "markdown",
   "metadata": {},
   "source": [
    "We select top 5000 highly variable genes for downstream analysis."
   ]
  },
  {
   "cell_type": "code",
   "execution_count": null,
   "metadata": {
    "ExecuteTime": {
     "start_time": "2021-08-16T12:29:45.520Z"
    }
   },
   "outputs": [],
   "source": [
    "sc.pp.highly_variable_genes(adata, n_top_genes = 5000, flavor = 'seurat_v3')"
   ]
  },
  {
   "cell_type": "markdown",
   "metadata": {},
   "source": [
    "We can identify the index of the highly variable genes and store them inside adata for later use:"
   ]
  },
  {
   "cell_type": "code",
   "execution_count": null,
   "metadata": {
    "ExecuteTime": {
     "start_time": "2021-08-16T12:29:45.523Z"
    }
   },
   "outputs": [],
   "source": [
    "adata.uns['id_hvg'] = np.where(adata.var['highly_variable'])[0]"
   ]
  },
  {
   "cell_type": "code",
   "execution_count": null,
   "metadata": {
    "ExecuteTime": {
     "start_time": "2021-08-16T12:29:45.525Z"
    }
   },
   "outputs": [],
   "source": [
    "adata.uns['id_hvg']"
   ]
  },
  {
   "cell_type": "markdown",
   "metadata": {},
   "source": [
    "We can visualize the selected genes on mean-counts by variance plot:"
   ]
  },
  {
   "cell_type": "code",
   "execution_count": null,
   "metadata": {
    "ExecuteTime": {
     "start_time": "2021-08-16T12:29:45.528Z"
    }
   },
   "outputs": [],
   "source": [
    "x = np.log2(adata.var['means'] + 1)\n",
    "y = np.log2(adata.var['variances_norm'] + 1)\n",
    "\n",
    "fig, ax = plt.subplots(figsize=(6, 6))\n",
    "\n",
    "ax.scatter(x, y, s = 2)\n",
    "ax.scatter(x[adata.uns['id_hvg']], y[adata.uns['id_hvg']], s = 2, c = 'r')\n",
    "ax.set_xlabel('log2 mean expression')\n",
    "ax.set_ylabel('log2 normalized variance')\n",
    "ax.legend(['All genes', 'HVG'])\n",
    "\n",
    "plt.show()"
   ]
  },
  {
   "cell_type": "markdown",
   "metadata": {},
   "source": [
    "# Data Normalization"
   ]
  },
  {
   "cell_type": "markdown",
   "metadata": {},
   "source": [
    "We will perform median library size normalization followed by log transformation. This is the most common data normalization in scRNA-seq data analysis. "
   ]
  },
  {
   "cell_type": "markdown",
   "metadata": {},
   "source": [
    "Since most of our analysis will be on the log transformed data, we will reorganize some of the structure of adata. We will store log transformed data onto adata.X, while the raw counts and normalized counts will be stored as adata.layers."
   ]
  },
  {
   "cell_type": "code",
   "execution_count": null,
   "metadata": {
    "ExecuteTime": {
     "start_time": "2021-08-16T12:29:45.531Z"
    }
   },
   "outputs": [],
   "source": [
    "# Median library size normalization\n",
    "X_norm = sc.pp.normalize_total(adata, inplace = False)\n",
    "adata.layers['norm_data'] = X_norm['X']"
   ]
  },
  {
   "cell_type": "code",
   "execution_count": null,
   "metadata": {
    "ExecuteTime": {
     "start_time": "2021-08-16T12:29:45.533Z"
    }
   },
   "outputs": [],
   "source": [
    "adata.layers['raw_data'] = adata.X"
   ]
  },
  {
   "cell_type": "code",
   "execution_count": null,
   "metadata": {
    "ExecuteTime": {
     "start_time": "2021-08-16T12:29:45.535Z"
    }
   },
   "outputs": [],
   "source": [
    "# Log transformation\n",
    "if type(adata.layers['norm_data']) is sparse.csr.csr_matrix: \n",
    "    adata.X = np.log2(adata.layers['norm_data'].toarray() + 0.1) - np.log2(0.1)\n",
    "else:\n",
    "    adata.X = np.log2(adata.layers['norm_data'] + 0.1) - np.log2(0.1)"
   ]
  },
  {
   "cell_type": "code",
   "execution_count": null,
   "metadata": {
    "ExecuteTime": {
     "start_time": "2021-08-16T12:29:45.537Z"
    }
   },
   "outputs": [],
   "source": [
    "adata"
   ]
  },
  {
   "cell_type": "markdown",
   "metadata": {},
   "source": [
    "# Dimensionality reduction"
   ]
  },
  {
   "cell_type": "markdown",
   "metadata": {},
   "source": [
    "## PCA"
   ]
  },
  {
   "cell_type": "markdown",
   "metadata": {},
   "source": [
    "We first perform PCA on the highly variable genes."
   ]
  },
  {
   "cell_type": "code",
   "execution_count": null,
   "metadata": {
    "ExecuteTime": {
     "start_time": "2021-08-16T12:29:45.540Z"
    }
   },
   "outputs": [],
   "source": [
    "sc.tl.pca(adata, n_comps = 50, use_highly_variable = True)"
   ]
  },
  {
   "cell_type": "code",
   "execution_count": null,
   "metadata": {
    "ExecuteTime": {
     "start_time": "2021-08-16T12:29:45.543Z"
    }
   },
   "outputs": [],
   "source": [
    "adata"
   ]
  },
  {
   "cell_type": "markdown",
   "metadata": {},
   "source": [
    "As we can see, the principal components are stored in `adata.obsm['X_pca']`, the associated loadings are stored in `adata.varm['PCs']`, and the variance/variance-ratio explained by each components is saved in `adata.uns['pca']`."
   ]
  },
  {
   "cell_type": "code",
   "execution_count": null,
   "metadata": {
    "ExecuteTime": {
     "start_time": "2021-08-16T12:29:45.545Z"
    }
   },
   "outputs": [],
   "source": [
    "# Visualize variance explained:\n",
    "fig, ax = plt.subplots(figsize=(6, 6))\n",
    "\n",
    "ax.plot(\n",
    "    range(len(adata.uns['pca']['variance_ratio'])), \n",
    "    np.cumsum(adata.uns['pca']['variance_ratio']) * 100,\n",
    "    '.-'\n",
    ")\n",
    "ax.set_xlabel('Principal Component')\n",
    "ax.set_ylabel('% Variance Explained')\n",
    "\n",
    "plt.show()"
   ]
  },
  {
   "cell_type": "markdown",
   "metadata": {},
   "source": [
    "The above plot suggests that the top 50 principal components explain > 40% of the variance in the data."
   ]
  },
  {
   "cell_type": "markdown",
   "metadata": {},
   "source": [
    "## Nearest neighbors, UMAP"
   ]
  },
  {
   "cell_type": "markdown",
   "metadata": {},
   "source": [
    "We compute k-nearest neighbor graph on the computed PCA (with k parameter set to 30)."
   ]
  },
  {
   "cell_type": "code",
   "execution_count": null,
   "metadata": {
    "ExecuteTime": {
     "start_time": "2021-08-16T12:29:45.549Z"
    }
   },
   "outputs": [],
   "source": [
    "sc.pp.neighbors(adata, n_neighbors = 30, use_rep = 'X_pca', random_state = 0)"
   ]
  },
  {
   "cell_type": "code",
   "execution_count": null,
   "metadata": {
    "ExecuteTime": {
     "start_time": "2021-08-16T12:29:45.551Z"
    }
   },
   "outputs": [],
   "source": [
    "adata"
   ]
  },
  {
   "cell_type": "markdown",
   "metadata": {},
   "source": [
    "The output of the nearest neighbor graph is stored in `adata.obsp['distances']`: nearest neighbor distance graph - and `adata.obsp['connectivities']`: nearest neighbor affinity graph. "
   ]
  },
  {
   "cell_type": "markdown",
   "metadata": {},
   "source": [
    "We now can run UMAP on the computed nearest graph, which will be stored in `adata.obsm['X_umap']`."
   ]
  },
  {
   "cell_type": "code",
   "execution_count": null,
   "metadata": {
    "ExecuteTime": {
     "start_time": "2021-08-16T12:29:45.554Z"
    }
   },
   "outputs": [],
   "source": [
    "sc.tl.umap(adata, min_dist = 0.1)"
   ]
  },
  {
   "cell_type": "code",
   "execution_count": null,
   "metadata": {
    "ExecuteTime": {
     "start_time": "2021-08-16T12:29:45.556Z"
    }
   },
   "outputs": [],
   "source": [
    "adata"
   ]
  },
  {
   "cell_type": "markdown",
   "metadata": {},
   "source": [
    " ## Visualize some metadata onto UMAP"
   ]
  },
  {
   "cell_type": "code",
   "execution_count": null,
   "metadata": {
    "ExecuteTime": {
     "start_time": "2021-08-16T12:29:45.558Z"
    }
   },
   "outputs": [],
   "source": [
    "adata"
   ]
  },
  {
   "cell_type": "code",
   "execution_count": null,
   "metadata": {
    "ExecuteTime": {
     "start_time": "2021-08-16T12:29:45.560Z"
    }
   },
   "outputs": [],
   "source": [
    "fig = sc.pl.umap(adata, color = ['log1p_total_counts', 'log1p_n_genes_by_counts', 'mito_frac'], size = 30,\n",
    "           frameon = False, ncols = 2, return_fig = True)\n",
    "\n",
    "# Save figure:\n",
    "fig.savefig(os.path.join(output_directory, 'metadata_on_UMAP.png'), bbox_inches = 'tight', dpi = 150)"
   ]
  },
  {
   "cell_type": "markdown",
   "metadata": {},
   "source": [
    "# Cluster"
   ]
  },
  {
   "cell_type": "markdown",
   "metadata": {},
   "source": [
    "We now cluster the cells using PhenoGraph. We set the k parameter to be 30."
   ]
  },
  {
   "cell_type": "code",
   "execution_count": null,
   "metadata": {
    "ExecuteTime": {
     "start_time": "2021-08-16T12:29:45.563Z"
    }
   },
   "outputs": [],
   "source": [
    "cluster, Q, graph = phenograph.cluster(adata.obsm['X_pca'], k = 30)"
   ]
  },
  {
   "cell_type": "code",
   "execution_count": null,
   "metadata": {
    "ExecuteTime": {
     "start_time": "2021-08-16T12:29:45.565Z"
    }
   },
   "outputs": [],
   "source": [
    "adata.obs['Clusters'] = pd.Categorical(cluster)"
   ]
  },
  {
   "cell_type": "code",
   "execution_count": null,
   "metadata": {
    "ExecuteTime": {
     "start_time": "2021-08-16T12:29:45.567Z"
    }
   },
   "outputs": [],
   "source": [
    "fig = sc.pl.umap(adata, color = ['Clusters'], size = 50, frameon = False, return_fig = True)\n",
    "\n",
    "# Save figure:\n",
    "fig.savefig(os.path.join(output_directory, 'clusters_on_UMAP.png'), bbox_inches = 'tight', dpi = 150)"
   ]
  },
  {
   "cell_type": "code",
   "execution_count": null,
   "metadata": {
    "ExecuteTime": {
     "start_time": "2021-08-16T12:29:45.571Z"
    }
   },
   "outputs": [],
   "source": [
    "adata.write_h5ad(\n",
    "    os.path.join(output_directory, f\"{sample_name}.processed.h5ad\")\n",
    ")"
   ]
  },
  {
   "cell_type": "code",
   "execution_count": null,
   "metadata": {},
   "outputs": [],
   "source": []
  }
 ],
 "metadata": {
  "kernelspec": {
   "display_name": "Python 3",
   "language": "python",
   "name": "python3"
  },
  "language_info": {
   "codemirror_mode": {
    "name": "ipython",
    "version": 3
   },
   "file_extension": ".py",
   "mimetype": "text/x-python",
   "name": "python",
   "nbconvert_exporter": "python",
   "pygments_lexer": "ipython3",
   "version": "3.7.7"
  },
  "toc": {
   "base_numbering": 1,
   "nav_menu": {},
   "number_sections": true,
   "sideBar": true,
   "skip_h1_title": false,
   "title_cell": "Table of Contents",
   "title_sidebar": "Contents",
   "toc_cell": false,
   "toc_position": {},
   "toc_section_display": true,
   "toc_window_display": true
  }
 },
 "nbformat": 4,
 "nbformat_minor": 4
}
